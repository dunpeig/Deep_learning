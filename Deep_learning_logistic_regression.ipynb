{
 "cells": [
  {
   "cell_type": "code",
   "execution_count": 3,
   "id": "bdbaf5c5",
   "metadata": {},
   "outputs": [],
   "source": [
    "import numpy as np\n"
   ]
  },
  {
   "cell_type": "code",
   "execution_count": 4,
   "id": "01bfe114",
   "metadata": {},
   "outputs": [],
   "source": [
    "def basic_sigmoid(x):\n",
    "    s = 1/(1+np.exp(-x))\n",
    "    return s"
   ]
  },
  {
   "cell_type": "code",
   "execution_count": 6,
   "id": "92bef67d",
   "metadata": {},
   "outputs": [],
   "source": [
    "def sigmoid_derivative(x):\n",
    "    # use sigmoid function derivatives\n",
    "    s = basic_sigmoid(x)\n",
    "    ds = s * ( 1 - s)\n",
    "    return ds \n",
    "    \n",
    "    "
   ]
  },
  {
   "cell_type": "code",
   "execution_count": 5,
   "id": "1ce0efb8",
   "metadata": {},
   "outputs": [
    {
     "data": {
      "text/plain": [
       "array([0.73105858, 0.88079708, 0.95257413])"
      ]
     },
     "execution_count": 5,
     "metadata": {},
     "output_type": "execute_result"
    }
   ],
   "source": [
    "basic_sigmoid(np.array([1,2,3]))"
   ]
  },
  {
   "cell_type": "code",
   "execution_count": 7,
   "id": "bce05555",
   "metadata": {},
   "outputs": [
    {
     "data": {
      "text/plain": [
       "array([0.19661193, 0.10499359, 0.04517666])"
      ]
     },
     "execution_count": 7,
     "metadata": {},
     "output_type": "execute_result"
    }
   ],
   "source": [
    "sigmoid_derivative(np.array([1,2,3]))"
   ]
  },
  {
   "cell_type": "markdown",
   "id": "522353e1",
   "metadata": {},
   "source": [
    "## load in a dataset "
   ]
  },
  {
   "cell_type": "code",
   "execution_count": 44,
   "id": "1d3c8158",
   "metadata": {},
   "outputs": [],
   "source": [
    "import numpy as np\n",
    "from sklearn import datasets\n",
    "from sklearn.linear_model import LogisticRegression\n",
    "from sklearn.model_selection import train_test_split\n",
    "\n",
    "# 1、数据加载\n",
    "iris = datasets.load_iris()\n",
    "\n",
    "# 2、数据提取与筛选\n",
    "X = iris['data']\n",
    "y = iris['target']\n",
    "cond = y != 2\n",
    "X = X[cond]\n",
    "y = y[cond]\n",
    "\n",
    "# 3、数据拆分\n",
    "X_train,X_test,y_train,y_test = train_test_split(X,y)\n",
    "y_test = y_test.reshape((len(y_test),1))\n",
    "y_train = y_train.reshape((len(y_train),1))"
   ]
  },
  {
   "cell_type": "code",
   "execution_count": 45,
   "id": "ac8fc556",
   "metadata": {},
   "outputs": [
    {
     "name": "stdout",
     "output_type": "stream",
     "text": [
      "samle size of training set:   75\n",
      "samle size of test set:   25\n",
      "X_train shape:   (75, 4)\n",
      "y_train shape:   (75, 1)\n",
      "X_test shape:   (25, 4)\n",
      "y_test shape:   (25, 1)\n"
     ]
    }
   ],
   "source": [
    "print(\"samle size of training set:  \", X_train.shape[0])\n",
    "print(\"samle size of test set:  \", X_test.shape[0])\n",
    "print(\"X_train shape:  \", X_train.shape)\n",
    "print(\"y_train shape:  \", y_train.shape)\n",
    "print(\"X_test shape:  \", X_test.shape)\n",
    "print(\"y_test shape:  \", y_test.shape)\n"
   ]
  },
  {
   "cell_type": "code",
   "execution_count": 46,
   "id": "73899808",
   "metadata": {},
   "outputs": [],
   "source": [
    "def initialize_with_zeros(shape):\n",
    "    w = np.zeros([shape,1])\n",
    "    b = 0\n",
    "    assert(w.shape == (shape, 1))\n",
    "    assert(isinstance(b, float) or isinstance(b, int))\n",
    "    return w, b"
   ]
  },
  {
   "cell_type": "code",
   "execution_count": 58,
   "id": "08a799af",
   "metadata": {},
   "outputs": [],
   "source": [
    "def propagate(w, b, X, y):\n",
    "    m = X.shape[0]\n",
    "    # forward propagate\n",
    "    # w (n,1) X (m, n)\n",
    "    A = basic_sigmoid(np.dot(X, w) + b)\n",
    "    # compute loss function\n",
    "    cost = -1 / m * np.sum(y * np.log(A) + (1- y) * np.log(1-A))\n",
    "    # back propagate \n",
    "    # the derivative is the same form as the linear regression! \n",
    "    dz = A - y\n",
    "    dw = 1 / m * np.dot(X.T, dz)\n",
    "    db = 1 / m * np.sum(dz)\n",
    "    \n",
    "    assert(dw.shape == w.shape)\n",
    "    assert(db.dtype == float)\n",
    "    cost = np.squeeze(cost)\n",
    "    assert(cost.shape == ())\n",
    "    grads = {\"dw\": dw, \"db\": db}\n",
    "    return grads, cost "
   ]
  },
  {
   "cell_type": "code",
   "execution_count": 59,
   "id": "e9e225b4",
   "metadata": {},
   "outputs": [],
   "source": [
    "def optimize(w, b, X, y, num_iterations, learning_rate):\n",
    "    costs = []\n",
    "    for i in range(num_iterations):\n",
    "        # gradients \n",
    "        grad, cost = propagate(w, b, X, y)\n",
    "        dw = grad[\"dw\"]\n",
    "        db = grad[\"db\"]\n",
    "        # update coefficients \n",
    "        w -= learning_rate * dw\n",
    "        b -= learning_rate * db\n",
    "        \n",
    "        # record the cost change \n",
    "        if i % 100 == 0:\n",
    "            costs.append(cost)\n",
    "        if i % 100 == 0:\n",
    "            print(\"results of cost %i: %f\" %(i, cost))\n",
    "    params = {\"w\": w, \"b\": b}\n",
    "    grads = {\"dw\": dw, \"db\": db}\n",
    "    \n",
    "    return params, grads, costs "
   ]
  },
  {
   "cell_type": "code",
   "execution_count": 63,
   "id": "8665afea",
   "metadata": {},
   "outputs": [],
   "source": [
    "def predict(w, b, X):\n",
    "    m = X.shape[0]\n",
    "    y_predict = np.zeros((m,1))\n",
    "    w = w.reshape(X.shape[1], 1)\n",
    "    \n",
    "    A = basic_sigmoid(np.dot(X, w) + b)\n",
    "    for i in range(A.shape[0]):\n",
    "        if A[i, 0] <= 0.5:\n",
    "            y_predict[i, 0] = 0\n",
    "        else:\n",
    "            y_predict[i, 0] = 1\n",
    "    assert(y_predict.shape == (m, 1))\n",
    "    return y_predict "
   ]
  },
  {
   "cell_type": "code",
   "execution_count": 64,
   "id": "7d457889",
   "metadata": {},
   "outputs": [],
   "source": [
    "def model(X_train, y_train, X_test, y_test, num_iterations= 2000, learning_rate=0.5):\n",
    "    # initialize the coefficients \n",
    "    w, b = initialize_with_zeros(X_train.shape[1])\n",
    "    # gradient descent \n",
    "    params, grads, costs = optimize(w, b, X_train, y_train, num_iterations, learning_rate)\n",
    "    \n",
    "    w = params[\"w\"]\n",
    "    b = params[\"b\"]\n",
    "    \n",
    "    predict_train = predict(w, b, X_train)\n",
    "    predict_test = predict(w, b, X_test)\n",
    "    \n",
    "    print(\"training set accuracy: {}\".format(100-np.mean(np.abs(predict_train-y_train))*100))\n",
    "    print(\"test set accuracy: {}\".format(100-np.mean(np.abs(predict_test-y_test)*100)))\n",
    "          \n",
    "    \n",
    "    d = {\"costs\": costs, \n",
    "        \"y_predict_test\": predict_test,\n",
    "        \"y_predict_train\": predict_train, \n",
    "        \"w\": w,\n",
    "        \"b\": b, \n",
    "        \"learning_rate\": learning_rate,\n",
    "        \"num_iterations\": num_iterations}\n",
    "    return d "
   ]
  },
  {
   "cell_type": "code",
   "execution_count": 65,
   "id": "f8186955",
   "metadata": {},
   "outputs": [
    {
     "name": "stdout",
     "output_type": "stream",
     "text": [
      "results of cost 0: 0.693147\n",
      "results of cost 100: 0.009987\n",
      "results of cost 200: 0.006237\n",
      "results of cost 300: 0.004584\n",
      "results of cost 400: 0.003646\n",
      "results of cost 500: 0.003037\n",
      "results of cost 600: 0.002610\n",
      "results of cost 700: 0.002292\n",
      "results of cost 800: 0.002046\n",
      "results of cost 900: 0.001850\n",
      "results of cost 1000: 0.001689\n",
      "results of cost 1100: 0.001556\n",
      "results of cost 1200: 0.001442\n",
      "results of cost 1300: 0.001345\n",
      "results of cost 1400: 0.001261\n",
      "results of cost 1500: 0.001187\n",
      "results of cost 1600: 0.001121\n",
      "results of cost 1700: 0.001063\n",
      "results of cost 1800: 0.001011\n",
      "results of cost 1900: 0.000963\n",
      "training set accuracy: 100.0\n",
      "test set accuracy: 100.0\n"
     ]
    },
    {
     "data": {
      "text/plain": [
       "{'costs': [0.6931471805599454,\n",
       "  0.009987403151523551,\n",
       "  0.006236614805497792,\n",
       "  0.004584071241039865,\n",
       "  0.0036456114826185163,\n",
       "  0.003037460346771051,\n",
       "  0.0026098570566588752,\n",
       "  0.0022920154959711774,\n",
       "  0.0020460315443450168,\n",
       "  0.0018497340189128095,\n",
       "  0.0016892687119418046,\n",
       "  0.00155552213562423,\n",
       "  0.0014422475425697383,\n",
       "  0.001345016352869588,\n",
       "  0.0012605993420181235,\n",
       "  0.0011865849718416682,\n",
       "  0.0011211350611686592,\n",
       "  0.0010628233193762165,\n",
       "  0.0010105256619204138,\n",
       "  0.000963343886815173],\n",
       " 'y_predict_test': array([[1.],\n",
       "        [1.],\n",
       "        [1.],\n",
       "        [1.],\n",
       "        [1.],\n",
       "        [0.],\n",
       "        [0.],\n",
       "        [1.],\n",
       "        [1.],\n",
       "        [1.],\n",
       "        [0.],\n",
       "        [0.],\n",
       "        [0.],\n",
       "        [0.],\n",
       "        [0.],\n",
       "        [1.],\n",
       "        [1.],\n",
       "        [0.],\n",
       "        [1.],\n",
       "        [1.],\n",
       "        [0.],\n",
       "        [1.],\n",
       "        [1.],\n",
       "        [0.],\n",
       "        [0.]]),\n",
       " 'y_predict_train': array([[1.],\n",
       "        [0.],\n",
       "        [0.],\n",
       "        [0.],\n",
       "        [0.],\n",
       "        [0.],\n",
       "        [0.],\n",
       "        [1.],\n",
       "        [0.],\n",
       "        [1.],\n",
       "        [0.],\n",
       "        [0.],\n",
       "        [1.],\n",
       "        [1.],\n",
       "        [0.],\n",
       "        [0.],\n",
       "        [1.],\n",
       "        [0.],\n",
       "        [0.],\n",
       "        [0.],\n",
       "        [0.],\n",
       "        [1.],\n",
       "        [0.],\n",
       "        [1.],\n",
       "        [1.],\n",
       "        [0.],\n",
       "        [1.],\n",
       "        [0.],\n",
       "        [1.],\n",
       "        [0.],\n",
       "        [1.],\n",
       "        [0.],\n",
       "        [0.],\n",
       "        [0.],\n",
       "        [0.],\n",
       "        [1.],\n",
       "        [1.],\n",
       "        [1.],\n",
       "        [1.],\n",
       "        [0.],\n",
       "        [1.],\n",
       "        [1.],\n",
       "        [0.],\n",
       "        [1.],\n",
       "        [1.],\n",
       "        [1.],\n",
       "        [0.],\n",
       "        [1.],\n",
       "        [1.],\n",
       "        [1.],\n",
       "        [1.],\n",
       "        [0.],\n",
       "        [1.],\n",
       "        [0.],\n",
       "        [0.],\n",
       "        [1.],\n",
       "        [0.],\n",
       "        [0.],\n",
       "        [0.],\n",
       "        [1.],\n",
       "        [0.],\n",
       "        [0.],\n",
       "        [0.],\n",
       "        [1.],\n",
       "        [0.],\n",
       "        [0.],\n",
       "        [1.],\n",
       "        [0.],\n",
       "        [1.],\n",
       "        [1.],\n",
       "        [1.],\n",
       "        [1.],\n",
       "        [1.],\n",
       "        [1.],\n",
       "        [0.]]),\n",
       " 'w': array([[-0.78772208],\n",
       "        [-3.04897218],\n",
       "        [ 4.58311536],\n",
       "        [ 2.12553583]]),\n",
       " 'b': -0.474645457361899,\n",
       " 'learning_rate': 0.5,\n",
       " 'num_iterations': 2000}"
      ]
     },
     "execution_count": 65,
     "metadata": {},
     "output_type": "execute_result"
    }
   ],
   "source": [
    "model(X_train, y_train, X_test, y_test, num_iterations= 2000, learning_rate=0.5)"
   ]
  },
  {
   "cell_type": "code",
   "execution_count": null,
   "id": "68610d21",
   "metadata": {},
   "outputs": [],
   "source": []
  },
  {
   "cell_type": "code",
   "execution_count": null,
   "id": "e152a289",
   "metadata": {},
   "outputs": [],
   "source": []
  },
  {
   "cell_type": "code",
   "execution_count": null,
   "id": "b52412a8",
   "metadata": {},
   "outputs": [],
   "source": []
  },
  {
   "cell_type": "code",
   "execution_count": null,
   "id": "c73943ad",
   "metadata": {},
   "outputs": [],
   "source": []
  }
 ],
 "metadata": {
  "kernelspec": {
   "display_name": "Python 3 (ipykernel)",
   "language": "python",
   "name": "python3"
  },
  "language_info": {
   "codemirror_mode": {
    "name": "ipython",
    "version": 3
   },
   "file_extension": ".py",
   "mimetype": "text/x-python",
   "name": "python",
   "nbconvert_exporter": "python",
   "pygments_lexer": "ipython3",
   "version": "3.8.12"
  }
 },
 "nbformat": 4,
 "nbformat_minor": 5
}
