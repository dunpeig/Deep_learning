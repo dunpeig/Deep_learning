{
 "cells": [
  {
   "cell_type": "code",
   "execution_count": 5,
   "id": "adc7ec56",
   "metadata": {},
   "outputs": [
    {
     "name": "stderr",
     "output_type": "stream",
     "text": [
      "2024-01-24 12:07:20.340114: I tensorflow/core/platform/cpu_feature_guard.cc:182] This TensorFlow binary is optimized to use available CPU instructions in performance-critical operations.\n",
      "To enable the following instructions: AVX2 AVX512F AVX512_VNNI FMA, in other operations, rebuild TensorFlow with the appropriate compiler flags.\n"
     ]
    }
   ],
   "source": [
    "import numpy as np\n",
    "from faker import Faker\n",
    "import random\n",
    "from tqdm import tqdm\n",
    "from babel.dates import format_date\n",
    "from keras.utils import to_categorical\n",
    "import keras.backend as K\n",
    "import matplotlib.pyplot as plt\n",
    "Faker.seed(12345)\n",
    "random.seed(12345)"
   ]
  },
  {
   "cell_type": "code",
   "execution_count": 14,
   "id": "4f91b8ae",
   "metadata": {},
   "outputs": [],
   "source": [
    "from keras.models import Model, Sequential\n",
    "from keras.layers import Input, Dense, Reshape, Flatten, Dropout\n",
    "from keras.layers import BatchNormalization, Activation, ZeroPadding2D\n",
    "from keras.layers import LeakyReLU\n",
    "from keras.layers import UpSampling2D, Conv2D, MaxPooling2D\n",
    "from keras.optimizers.legacy import Adam \n",
    "#from keras.layers import LSTM, Bidirectional \n",
    "from keras.datasets import mnist"
   ]
  },
  {
   "cell_type": "code",
   "execution_count": 7,
   "id": "17b1d25a",
   "metadata": {},
   "outputs": [],
   "source": [
    "class AutoEncoder(object):\n",
    "    def __init__(self):\n",
    "        self.encoding_dim = 32\n",
    "        self.decoding_dim = 784\n",
    "        self.model = self.auto_encoder_model()\n",
    "        \n",
    "    def auto_encoder_model(self):\n",
    "        input_img = Input(shape=(784,))\n",
    "        encoder = Dense(self.encoding_dim, activation='relu')(input_img)\n",
    "        decoder = Dense(self.decoding_dim, activation='sigmoid')(encoder)\n",
    "        auto_encoder = Model(inputs=input_img, outputs = decoder)\n",
    "        auto_encoder.compile(optimizer='adam', loss='binary_crossentropy')\n",
    "        return auto_encoder \n",
    "    \n",
    "    def train(self):\n",
    "        (x_train, _), (x_test, _) = mnist.load_data()\n",
    "        \n",
    "        x_train = x_train.astype(\"float32\") / 255.\n",
    "        x_test = x_test.astype(\"float32\") / 255.\n",
    "        \n",
    "        \n",
    "        x_train = np.reshape(x_train, (len(x_train), np.prod(x_train.shape[1:])))\n",
    "        x_test = np.reshape(x_test, (len(x_test), np.prod(x_test.shape[1:])))\n",
    "        \n",
    "        print(x_train.shape)\n",
    "        print(x_test.shape)\n",
    "        \n",
    "        self.model.fit(x_train, x_train, \n",
    "                      epochs=5,\n",
    "                      batch_size=256,\n",
    "                      shuffle=True,\n",
    "                      validation_data=(x_test, x_test))\n",
    "        \n",
    "    def display(self):\n",
    "        \n",
    "        (x_train, _), (x_test, _) = mnist.load_data()\n",
    "        \n",
    "        x_test = np.reshape(x_test, (len(x_test), np.prod(x_test.shape[1:])))\n",
    "        \n",
    "        decoded_imgs = self.model.predict(x_test)\n",
    "        \n",
    "        plt.figure(figsize=(20,4))\n",
    "        \n",
    "        n = 5\n",
    "        \n",
    "        for i in range(n):\n",
    "            \n",
    "            ax = plt.subplot(2, n, i+1)\n",
    "            plt.imshow(x_test[i].reshape(28,28))\n",
    "            plt.gray()\n",
    "            ax.get_xaxis().set_visible(False)\n",
    "            ax.get_yaxis().set_visible(False)\n",
    "            \n",
    "            ax = plt.subplot(2, n, i+n+1)\n",
    "            plt.imshow(x_test[i].reshape(28,28))\n",
    "            plt.gray()\n",
    "            ax.get_xaxis().set_visible(False)\n",
    "            ax.get_yaxis().set_visible(False)\n",
    "            \n",
    "        plt.show()\n",
    "        \n",
    "        \n",
    "        "
   ]
  },
  {
   "cell_type": "code",
   "execution_count": null,
   "id": "07ca8166",
   "metadata": {},
   "outputs": [],
   "source": []
  },
  {
   "cell_type": "code",
   "execution_count": 9,
   "id": "bbc4447c",
   "metadata": {},
   "outputs": [
    {
     "name": "stdout",
     "output_type": "stream",
     "text": [
      "(60000, 784)\n",
      "(10000, 784)\n",
      "Epoch 1/5\n",
      "235/235 [==============================] - 2s 7ms/step - loss: 0.2775 - val_loss: 0.1932\n",
      "Epoch 2/5\n",
      "235/235 [==============================] - 2s 8ms/step - loss: 0.1717 - val_loss: 0.1536\n",
      "Epoch 3/5\n",
      "235/235 [==============================] - 2s 8ms/step - loss: 0.1442 - val_loss: 0.1335\n",
      "Epoch 4/5\n",
      "235/235 [==============================] - 2s 8ms/step - loss: 0.1282 - val_loss: 0.1210\n",
      "Epoch 5/5\n",
      "235/235 [==============================] - 2s 7ms/step - loss: 0.1178 - val_loss: 0.1124\n",
      "313/313 [==============================] - 0s 1ms/step\n"
     ]
    },
    {
     "data": {
      "image/png": "[encoded data removed]",
      "text/plain": [
       "<Figure size 1440x288 with 10 Axes>"
      ]
     },
     "metadata": {
      "needs_background": "light"
     },
     "output_type": "display_data"
    }
   ],
   "source": [
    "if __name__ == '__main__':\n",
    "    \n",
    "    ae = AutoEncoder()\n",
    "    ae.train()\n",
    "    ae.display()"
   ]
  },
  {
   "cell_type": "code",
   "execution_count": 10,
   "id": "25e874e5",
   "metadata": {},
   "outputs": [],
   "source": [
    "class AutoEncoder_deep(object):\n",
    "    def __init__(self):\n",
    "        self.encoding_dim = 32\n",
    "        self.decoding_dim = 784\n",
    "        self.model = self.auto_encoder_model()\n",
    "        \n",
    "    def auto_encoder_model(self):\n",
    "        input_img = Input(shape=(784,))\n",
    "        encoded = Dense(128, activation='relu')(input_img)\n",
    "        encoded = Dense(64, activation='relu')(encoded)\n",
    "        encoded = Dense(32, activation='relu')(encoded)\n",
    "        \n",
    "        decoded = Dense(64, activation='relu')(encoded)\n",
    "        decoded = Dense(128, activation='relu')(decoded)\n",
    "        decoded = Dense(784, activation='relu')(decoded)\n",
    "        \n",
    "        auto_encoder = Model(inputs=input_img, outputs = decoded)\n",
    "        auto_encoder.compile(optimizer='adam', loss='binary_crossentropy')\n",
    "        \n",
    "        return auto_encoder \n",
    "    \n",
    "    def train(self):\n",
    "        (x_train, _), (x_test, _) = mnist.load_data()\n",
    "        \n",
    "        x_train = x_train.astype(\"float32\") / 255.\n",
    "        x_test = x_test.astype(\"float32\") / 255.\n",
    "        \n",
    "        \n",
    "        x_train = np.reshape(x_train, (len(x_train), np.prod(x_train.shape[1:])))\n",
    "        x_test = np.reshape(x_test, (len(x_test), np.prod(x_test.shape[1:])))\n",
    "        \n",
    "        print(x_train.shape)\n",
    "        print(x_test.shape)\n",
    "        \n",
    "        self.model.fit(x_train, x_train, \n",
    "                      epochs=5,\n",
    "                      batch_size=256,\n",
    "                      shuffle=True,\n",
    "                      validation_data=(x_test, x_test))\n",
    "        \n",
    "    def display(self):\n",
    "        \n",
    "        (x_train, _), (x_test, _) = mnist.load_data()\n",
    "        \n",
    "        x_test = np.reshape(x_test, (len(x_test), np.prod(x_test.shape[1:])))\n",
    "        \n",
    "        decoded_imgs = self.model.predict(x_test)\n",
    "        \n",
    "        plt.figure(figsize=(20,4))\n",
    "        \n",
    "        n = 5\n",
    "        \n",
    "        for i in range(n):\n",
    "            \n",
    "            ax = plt.subplot(2, n, i+1)\n",
    "            plt.imshow(x_test[i].reshape(28,28))\n",
    "            plt.gray()\n",
    "            ax.get_xaxis().set_visible(False)\n",
    "            ax.get_yaxis().set_visible(False)\n",
    "            \n",
    "            ax = plt.subplot(2, n, i+n+1)\n",
    "            plt.imshow(x_test[i].reshape(28,28))\n",
    "            plt.gray()\n",
    "            ax.get_xaxis().set_visible(False)\n",
    "            ax.get_yaxis().set_visible(False)\n",
    "            \n",
    "        plt.show()\n",
    "        "
   ]
  },
  {
   "cell_type": "code",
   "execution_count": 11,
   "id": "af02a05f",
   "metadata": {},
   "outputs": [
    {
     "name": "stdout",
     "output_type": "stream",
     "text": [
      "(60000, 784)\n",
      "(10000, 784)\n",
      "Epoch 1/5\n",
      "235/235 [==============================] - 4s 12ms/step - loss: 0.5764 - val_loss: 0.4549\n",
      "Epoch 2/5\n",
      "235/235 [==============================] - 3s 11ms/step - loss: 0.3783 - val_loss: 0.3276\n",
      "Epoch 3/5\n",
      "235/235 [==============================] - 3s 11ms/step - loss: 0.3078 - val_loss: 0.2964\n",
      "Epoch 4/5\n",
      "235/235 [==============================] - 3s 12ms/step - loss: 0.2961 - val_loss: 0.2656\n",
      "Epoch 5/5\n",
      "235/235 [==============================] - 2s 10ms/step - loss: 0.2707 - val_loss: 0.2572\n",
      "313/313 [==============================] - 1s 2ms/step\n"
     ]
    },
    {
     "data": {
      "image/png": "[encoded data removed]",
      "text/plain": [
       "<Figure size 1440x288 with 10 Axes>"
      ]
     },
     "metadata": {
      "needs_background": "light"
     },
     "output_type": "display_data"
    }
   ],
   "source": [
    "if __name__ == '__main__':\n",
    "    \n",
    "    ae = AutoEncoder_deep()\n",
    "    ae.train()\n",
    "    ae.display()"
   ]
  },
  {
   "cell_type": "code",
   "execution_count": 18,
   "id": "af5efef9",
   "metadata": {},
   "outputs": [],
   "source": [
    "class AutoEncoder_CNN(object):\n",
    "    def __init__(self):\n",
    "        self.encoding_dim = 32\n",
    "        self.decoding_dim = 784\n",
    "        self.model = self.auto_encoder_model()\n",
    "        \n",
    "    def auto_encoder_model(self):\n",
    "        input_img = Input(shape=(28,28,1))\n",
    "        x = Conv2D(32, (3,3), activation='relu', padding='same')(input_img)\n",
    "        x = MaxPooling2D((2,2), padding='same')(x)\n",
    "        x = Conv2D(32, (3,3), activation='relu', padding='same')(x)\n",
    "        encoded = MaxPooling2D((2,2), padding='same')(x)\n",
    "        print(encoded)\n",
    "        \n",
    "        x = Conv2D(32, (3,3), activation='relu', padding='same')(encoded)\n",
    "        x = UpSampling2D((2,2))(x)\n",
    "        x = Conv2D(32, (3,3), activation='relu', padding='same')(x)\n",
    "        x = UpSampling2D((2,2))(x)\n",
    "        decoded = Conv2D(1, (3,3), activation='sigmoid', padding='same')(x)\n",
    "        print(decoded)\n",
    "        auto_encoder = Model(inputs=input_img, outputs = decoded)\n",
    "        auto_encoder.compile(optimizer='adam', loss='binary_crossentropy')\n",
    "        \n",
    "        return auto_encoder \n",
    "    \n",
    "    def train(self):\n",
    "        (x_train, _), (x_test, _) = mnist.load_data()\n",
    "        \n",
    "        x_train = x_train.astype(\"float32\") / 255.\n",
    "        x_test = x_test.astype(\"float32\") / 255.\n",
    "        \n",
    "        \n",
    "        x_train = np.reshape(x_train, (len(x_train), 28,28,1))\n",
    "        x_test = np.reshape(x_test, (len(x_test), 28,28,1))\n",
    "        \n",
    "        print(x_train.shape)\n",
    "        print(x_test.shape)\n",
    "        \n",
    "        self.model.fit(x_train, x_train, \n",
    "                      epochs=5,\n",
    "                      batch_size=256,\n",
    "                      shuffle=True,\n",
    "                      validation_data=(x_test, x_test))\n",
    "        \n",
    "    def display(self):\n",
    "        \n",
    "        (x_train, _), (x_test, _) = mnist.load_data()\n",
    "        \n",
    "        x_test = np.reshape(x_test, (len(x_test), 28,28,1))\n",
    "        \n",
    "        decoded_imgs = self.model.predict(x_test)\n",
    "        \n",
    "        plt.figure(figsize=(20,4))\n",
    "        \n",
    "        n = 5\n",
    "        \n",
    "        for i in range(n):\n",
    "            \n",
    "            ax = plt.subplot(2, n, i+1)\n",
    "            plt.imshow(x_test[i].reshape(28,28))\n",
    "            plt.gray()\n",
    "            ax.get_xaxis().set_visible(False)\n",
    "            ax.get_yaxis().set_visible(False)\n",
    "            \n",
    "            ax = plt.subplot(2, n, i+n+1)\n",
    "            plt.imshow(x_test[i].reshape(28,28))\n",
    "            plt.gray()\n",
    "            ax.get_xaxis().set_visible(False)\n",
    "            ax.get_yaxis().set_visible(False)\n",
    "            \n",
    "        plt.show()\n",
    "        "
   ]
  },
  {
   "cell_type": "code",
   "execution_count": 19,
   "id": "30fc7c04",
   "metadata": {},
   "outputs": [
    {
     "name": "stdout",
     "output_type": "stream",
     "text": [
      "KerasTensor(type_spec=TensorSpec(shape=(None, 7, 7, 32), dtype=tf.float32, name=None), name='max_pooling2d_4/MaxPool:0', description=\"created by layer 'max_pooling2d_4'\")\n",
      "KerasTensor(type_spec=TensorSpec(shape=(None, 28, 28, 1), dtype=tf.float32, name=None), name='conv2d_11/Sigmoid:0', description=\"created by layer 'conv2d_11'\")\n",
      "(60000, 28, 28, 1)\n",
      "(10000, 28, 28, 1)\n",
      "Epoch 1/5\n",
      "235/235 [==============================] - 53s 221ms/step - loss: 0.1470 - val_loss: 0.0852\n",
      "Epoch 2/5\n",
      "235/235 [==============================] - 51s 218ms/step - loss: 0.0808 - val_loss: 0.0765\n",
      "Epoch 3/5\n",
      "235/235 [==============================] - 50s 213ms/step - loss: 0.0757 - val_loss: 0.0734\n",
      "Epoch 4/5\n",
      "235/235 [==============================] - 49s 210ms/step - loss: 0.0733 - val_loss: 0.0728\n",
      "Epoch 5/5\n",
      "235/235 [==============================] - 50s 211ms/step - loss: 0.0718 - val_loss: 0.0706\n",
      "313/313 [==============================] - 2s 6ms/step\n"
     ]
    },
    {
     "data": {
      "image/png": "[encoded data removed]",
      "text/plain": [
       "<Figure size 1440x288 with 10 Axes>"
      ]
     },
     "metadata": {
      "needs_background": "light"
     },
     "output_type": "display_data"
    }
   ],
   "source": [
    "if __name__ == '__main__':\n",
    "    \n",
    "    ae = AutoEncoder_CNN()\n",
    "    ae.train()\n",
    "    ae.display()"
   ]
  },
  {
   "cell_type": "code",
   "execution_count": null,
   "id": "e4852e82",
   "metadata": {},
   "outputs": [],
   "source": []
  },
  {
   "cell_type": "code",
   "execution_count": 22,
   "id": "efde4a97",
   "metadata": {},
   "outputs": [],
   "source": [
    "class AutoEncoder_CNN_noise(object):\n",
    "    def __init__(self):\n",
    "        self.encoding_dim = 32\n",
    "        self.decoding_dim = 784\n",
    "        self.model = self.auto_encoder_model()\n",
    "        \n",
    "    def auto_encoder_model(self):\n",
    "        input_img = Input(shape=(28,28,1))\n",
    "        x = Conv2D(32, (3,3), activation='relu', padding='same')(input_img)\n",
    "        x = MaxPooling2D((2,2), padding='same')(x)\n",
    "        x = Conv2D(32, (3,3), activation='relu', padding='same')(x)\n",
    "        encoded = MaxPooling2D((2,2), padding='same')(x)\n",
    "        print(encoded)\n",
    "        \n",
    "        x = Conv2D(32, (3,3), activation='relu', padding='same')(encoded)\n",
    "        x = UpSampling2D((2,2))(x)\n",
    "        x = Conv2D(32, (3,3), activation='relu', padding='same')(x)\n",
    "        x = UpSampling2D((2,2))(x)\n",
    "        decoded = Conv2D(1, (3,3), activation='sigmoid', padding='same')(x)\n",
    "        print(decoded)\n",
    "        auto_encoder = Model(inputs=input_img, outputs = decoded)\n",
    "        auto_encoder.compile(optimizer='adam', loss='binary_crossentropy')\n",
    "        \n",
    "        return auto_encoder \n",
    "    \n",
    "    def train(self):\n",
    "        (x_train, _), (x_test, _) = mnist.load_data()\n",
    "        \n",
    "        x_train = x_train.astype(\"float32\") / 255.\n",
    "        x_test = x_test.astype(\"float32\") / 255.\n",
    "        \n",
    "        \n",
    "        x_train = np.reshape(x_train, (len(x_train), 28,28,1))\n",
    "        x_test = np.reshape(x_test, (len(x_test), 28,28,1))\n",
    "        \n",
    "        print(x_train.shape)\n",
    "        print(x_test.shape)\n",
    "        \n",
    "        x_train_noisy = x_train + np.random.normal(loc=0.0, scale=3.0, size=x_train.shape)\n",
    "        x_test_noisy = x_test + np.random.normal(loc=0.0, scale=3.0, size=x_test.shape)\n",
    "        \n",
    "        x_train_noisy = np.clip(x_train_noisy, 0., 1.)\n",
    "        x_test_noisy = np.clip(x_test_noisy, 0., 1.)\n",
    "        \n",
    "        self.model.fit(x_train_noisy, x_train, \n",
    "                      epochs=5,\n",
    "                      batch_size=256,\n",
    "                      shuffle=True,\n",
    "                      validation_data=(x_test_noisy, x_test))\n",
    "        \n",
    "    def display(self):\n",
    "        \n",
    "        (x_train, _), (x_test, _) = mnist.load_data()\n",
    "        \n",
    "        x_test = np.reshape(x_test, (len(x_test), 28,28,1))\n",
    "        \n",
    "        x_test_noisy = x_test + np.random.normal(loc=3.0, scale=10.0, size=x_test.shape)\n",
    "        \n",
    "        decoded_imgs = self.model.predict(x_test_noisy)\n",
    "        \n",
    "        plt.figure(figsize=(20,4))\n",
    "        \n",
    "        n = 5\n",
    "        \n",
    "        for i in range(n):\n",
    "            \n",
    "            ax = plt.subplot(2, n, i+1)\n",
    "            plt.imshow(x_test_noisy[i].reshape(28,28))\n",
    "            plt.gray()\n",
    "            ax.get_xaxis().set_visible(False)\n",
    "            ax.get_yaxis().set_visible(False)\n",
    "            \n",
    "            ax = plt.subplot(2, n, i+n+1)\n",
    "            plt.imshow(x_test[i].reshape(28,28))\n",
    "            plt.gray()\n",
    "            ax.get_xaxis().set_visible(False)\n",
    "            ax.get_yaxis().set_visible(False)\n",
    "            \n",
    "        plt.show()"
   ]
  },
  {
   "cell_type": "code",
   "execution_count": 23,
   "id": "480010d8",
   "metadata": {},
   "outputs": [
    {
     "name": "stdout",
     "output_type": "stream",
     "text": [
      "KerasTensor(type_spec=TensorSpec(shape=(None, 7, 7, 32), dtype=tf.float32, name=None), name='max_pooling2d_6/MaxPool:0', description=\"created by layer 'max_pooling2d_6'\")\n",
      "KerasTensor(type_spec=TensorSpec(shape=(None, 28, 28, 1), dtype=tf.float32, name=None), name='conv2d_16/Sigmoid:0', description=\"created by layer 'conv2d_16'\")\n",
      "(60000, 28, 28, 1)\n",
      "(10000, 28, 28, 1)\n",
      "Epoch 1/5\n",
      "235/235 [==============================] - 53s 220ms/step - loss: 0.2879 - val_loss: 0.2568\n",
      "Epoch 2/5\n",
      "235/235 [==============================] - 52s 222ms/step - loss: 0.2557 - val_loss: 0.2554\n",
      "Epoch 3/5\n",
      "235/235 [==============================] - 56s 236ms/step - loss: 0.2540 - val_loss: 0.2534\n",
      "Epoch 4/5\n",
      "235/235 [==============================] - 54s 229ms/step - loss: 0.2530 - val_loss: 0.2520\n",
      "Epoch 5/5\n",
      "235/235 [==============================] - 57s 243ms/step - loss: 0.2524 - val_loss: 0.2516\n",
      "313/313 [==============================] - 2s 6ms/step\n"
     ]
    },
    {
     "data": {
      "image/png": "[encoded data removed]",
      "text/plain": [
       "<Figure size 1440x288 with 10 Axes>"
      ]
     },
     "metadata": {
      "needs_background": "light"
     },
     "output_type": "display_data"
    }
   ],
   "source": [
    "if __name__ == '__main__':\n",
    "    \n",
    "    ae = AutoEncoder_CNN_noise()\n",
    "    ae.train()\n",
    "    ae.display()"
   ]
  },
  {
   "cell_type": "code",
   "execution_count": null,
   "id": "404aa479",
   "metadata": {},
   "outputs": [],
   "source": []
  },
  {
   "cell_type": "code",
   "execution_count": null,
   "id": "fb6fd52a",
   "metadata": {},
   "outputs": [],
   "source": []
  }
 ],
 "metadata": {
  "kernelspec": {
   "display_name": "Python 3 (ipykernel)",
   "language": "python",
   "name": "python3"
  },
  "language_info": {
   "codemirror_mode": {
    "name": "ipython",
    "version": 3
   },
   "file_extension": ".py",
   "mimetype": "text/x-python",
   "name": "python",
   "nbconvert_exporter": "python",
   "pygments_lexer": "ipython3",
   "version": "3.8.12"
  }
 },
 "nbformat": 4,
 "nbformat_minor": 5
}
