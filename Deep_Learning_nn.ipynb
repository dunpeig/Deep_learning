{
 "cells": [
  {
   "cell_type": "code",
   "execution_count": 6,
   "id": "aca47ff4",
   "metadata": {},
   "outputs": [],
   "source": [
    "import numpy as np\n",
    "import matplotlib.pyplot as plt\n",
    "import sklearn \n",
    "import sklearn.datasets\n",
    "import sklearn.linear_model\n",
    "from sklearn.datasets import load_breast_cancer\n",
    "from sklearn.model_selection import train_test_split\n",
    "from sklearn.preprocessing import StandardScaler, LabelEncoder\n"
   ]
  },
  {
   "cell_type": "code",
   "execution_count": 7,
   "id": "bbb6c0fa",
   "metadata": {},
   "outputs": [],
   "source": [
    "cancer = load_breast_cancer()\n"
   ]
  },
  {
   "cell_type": "code",
   "execution_count": 8,
   "id": "2d691eb3",
   "metadata": {},
   "outputs": [
    {
     "name": "stdout",
     "output_type": "stream",
     "text": [
      "X_train:\n",
      "[[-1.44075296 -0.43531947 -1.36208497 -1.1391179   0.78057331  0.71892128\n",
      "   2.82313451 -0.11914956  1.09266219  2.45817261 -0.26380039 -0.01605246\n",
      "  -0.47041357 -0.47476088  0.83836493  3.25102691  8.43893667  3.39198733\n",
      "   2.62116574  2.06120787 -1.23286131 -0.47630949 -1.24792009 -0.97396758\n",
      "   0.72289445  1.18673232  4.67282796  0.9320124   2.09724217  1.88645014]\n",
      " [ 1.97409619  1.73302577  2.09167167  1.85197292  1.319843    3.42627493\n",
      "   2.01311199  2.66503199  2.1270036   1.55839569  0.80531919 -0.81268678\n",
      "   0.75195659  0.87716951 -0.89605315  1.18122247  0.18362761  0.60059598\n",
      "  -0.31771686  0.52963649  2.17331385  1.3112795   2.08161691  2.1374055\n",
      "   0.76192793  3.26560084  1.92862053  2.6989469   1.89116053  2.49783848]\n",
      " [-1.39998202 -1.24962228 -1.34520926 -1.10978518 -1.33264483 -0.30735463\n",
      "  -0.36555756 -0.69650228  1.93033305  0.95437877  0.02752055  1.96305996\n",
      "  -0.12095781 -0.35077918  0.57276579  0.7394992   0.32065553  0.58946222\n",
      "   2.61504052  0.71892779 -1.29528358 -1.04081128 -1.24522047 -0.99971493\n",
      "  -1.43869328 -0.54856427 -0.64491059 -0.97023893  0.59760192  0.0578942 ]\n",
      " [-0.98179678  1.41622208 -0.98258746 -0.86694414  0.05938999 -0.59678772\n",
      "  -0.82020317 -0.84511471  0.31326409  0.07404147 -0.53850473  0.53647286\n",
      "  -0.65795    -0.49659014  0.0654747  -0.82240418 -0.68556537 -0.89848456\n",
      "   0.12329928 -0.43154667 -0.8291973   1.59353039 -0.87357215 -0.74294685\n",
      "   0.79662437 -0.7293916  -0.77494969 -0.80948314  0.79892783 -0.1344968 ]\n",
      " [-1.11769991 -1.0102595  -1.12500192 -0.96594206  1.26951116 -0.43900185\n",
      "  -0.98334145 -0.93059974  3.39443604  0.95021314  0.40227808  0.4403815\n",
      "   0.21931447 -0.11553185  0.17191085 -0.78797021 -0.78350919 -0.58864808\n",
      "   2.60401511  0.76598123 -1.08512861 -1.3346163  -1.11713828 -0.89654919\n",
      "  -0.17487574 -0.99507862 -1.20914641 -1.35458167  1.03354385 -0.20573196]]\n",
      "\n",
      "y_train:\n",
      "[1 0 1 1 1]\n"
     ]
    }
   ],
   "source": [
    "X = cancer.data\n",
    "y = cancer.target\n",
    "\n",
    "# Split the dataset into training and testing sets\n",
    "X_train, X_test, y_train, y_test = train_test_split(X, y, test_size=0.2, random_state=42)\n",
    "\n",
    "# Standardize the features (recommended for neural networks)\n",
    "scaler = StandardScaler()\n",
    "X_train = scaler.fit_transform(X_train)\n",
    "X_test = scaler.transform(X_test)\n",
    "\n",
    "# Encode class labels to 0 and 1\n",
    "label_encoder = LabelEncoder()\n",
    "y_train = label_encoder.fit_transform(y_train)\n",
    "y_test = label_encoder.transform(y_test)\n",
    "\n",
    "# Display the first few rows of the dataset\n",
    "print(\"X_train:\")\n",
    "print(X_train[:5])\n",
    "print(\"\\ny_train:\")\n",
    "print(y_train[:5])"
   ]
  },
  {
   "cell_type": "code",
   "execution_count": 9,
   "id": "36643a06",
   "metadata": {},
   "outputs": [
    {
     "name": "stdout",
     "output_type": "stream",
     "text": [
      "(455, 30)\n",
      "(455,)\n"
     ]
    }
   ],
   "source": [
    "print(X_train.shape)\n",
    "print(y_train.shape)"
   ]
  },
  {
   "cell_type": "code",
   "execution_count": 66,
   "id": "a1ecc54e",
   "metadata": {},
   "outputs": [],
   "source": [
    "X_train = X_train.reshape(X_train.shape[1],X_train.shape[0])\n",
    "X_test = X_test.reshape(X_test.shape[1],X_test.shape[0])"
   ]
  },
  {
   "cell_type": "code",
   "execution_count": 14,
   "id": "c8eedb40",
   "metadata": {},
   "outputs": [],
   "source": [
    "y_train = y_train.reshape((1, len(y_train)))\n",
    "y_test = y_test.reshape((1, len(y_test)))"
   ]
  },
  {
   "cell_type": "code",
   "execution_count": 79,
   "id": "418c71e3",
   "metadata": {},
   "outputs": [
    {
     "data": {
      "text/plain": [
       "(30, 455)"
      ]
     },
     "execution_count": 79,
     "metadata": {},
     "output_type": "execute_result"
    }
   ],
   "source": [
    "X_train.shape"
   ]
  },
  {
   "cell_type": "code",
   "execution_count": 80,
   "id": "32bc610f",
   "metadata": {},
   "outputs": [
    {
     "data": {
      "text/plain": [
       "(1, 455)"
      ]
     },
     "execution_count": 80,
     "metadata": {},
     "output_type": "execute_result"
    }
   ],
   "source": [
    "y_train.shape"
   ]
  },
  {
   "cell_type": "code",
   "execution_count": 69,
   "id": "ec903cc9",
   "metadata": {},
   "outputs": [],
   "source": [
    "def sigmoid(x):\n",
    "    s = 1/(1+np.exp(-x))\n",
    "    return s"
   ]
  },
  {
   "cell_type": "code",
   "execution_count": 70,
   "id": "b8e1df28",
   "metadata": {},
   "outputs": [],
   "source": [
    "def layer_sizes(X, y):\n",
    "    \n",
    "    n_x = X.shape[0]\n",
    "    n_h = 4\n",
    "    n_y = y.shape[0]\n",
    "    return (n_x, n_h, n_y)"
   ]
  },
  {
   "cell_type": "code",
   "execution_count": 71,
   "id": "dfbe8c34",
   "metadata": {},
   "outputs": [],
   "source": [
    "def initialize_parameters(n_x, n_h, n_y):\n",
    "    np.random.seed(2)\n",
    "    \n",
    "    w1 = np.random.randn(n_h, n_x) * 0.01\n",
    "    b1 = np.zeros((n_h,1))\n",
    "    w2 = np.random.randn(n_y, n_h) * 0.01\n",
    "    b2 = np.zeros((n_y, 1))\n",
    "    \n",
    "    assert(w1.shape == (n_h, n_x))\n",
    "    assert(b1.shape == (n_h, 1))\n",
    "    assert(w2.shape == (n_y, n_h))\n",
    "    assert(b2.shape == (n_y, 1))\n",
    "    \n",
    "    parameters = {\"w1\": w1, \n",
    "                 \"b1\": b1,\n",
    "                 \"w2\": w2, \n",
    "                 \"b2\": b2}\n",
    "    return parameters \n",
    "    "
   ]
  },
  {
   "cell_type": "code",
   "execution_count": 107,
   "id": "84dbbde1",
   "metadata": {},
   "outputs": [],
   "source": [
    "def forward_propagate(X, parameters):\n",
    "    w1 = parameters[\"w1\"]\n",
    "    w2 = parameters[\"w2\"]\n",
    "    b1 = parameters[\"b1\"]\n",
    "    b2 = parameters[\"b2\"]\n",
    "    \n",
    "    z1 = np.dot(w1, X) + b1\n",
    "    a1 = np.tanh(z1)\n",
    "    z2 = np.dot(w2, a1) + b2\n",
    "    a2 = sigmoid(z2)\n",
    "    assert(a2.shape == (1,X.shape[1]))\n",
    "    \n",
    "    cache = {\"z1\": z1,\n",
    "            \"a1\": a1,\n",
    "            \"z2\": z2,\n",
    "            \"a2\": a2}\n",
    "    return a2, cache "
   ]
  },
  {
   "cell_type": "code",
   "execution_count": 97,
   "id": "f469eedd",
   "metadata": {},
   "outputs": [],
   "source": [
    "def compute_loss(a2, y, parameters):\n",
    "    m = y.shape[1]\n",
    "    logprob = np.multiply(np.log(a2), y) + np.multiply((1-y), np.log(1-a2))\n",
    "    cost = -1/m * np.sum(logprob)\n",
    "    \n",
    "    cost = np.squeeze(cost)\n",
    "    assert(isinstance(cost, float))\n",
    "    return cost "
   ]
  },
  {
   "cell_type": "code",
   "execution_count": 98,
   "id": "26a63439",
   "metadata": {},
   "outputs": [],
   "source": [
    "def backward_propagate(parameters, cache, X, y):\n",
    "    m = X.shape[1]\n",
    "    \n",
    "    w1 = parameters[\"w1\"]\n",
    "    w2 = parameters[\"w2\"]\n",
    "    \n",
    "    a1 = cache[\"a1\"]\n",
    "    a2 = cache[\"a2\"]\n",
    "    \n",
    "    dz2 = a2 - y\n",
    "    dw2 = 1/m * np.dot(dz2, a1.T)\n",
    "    db2 = 1/m * np.sum(dz2, axis=1, keepdims=True)\n",
    "    dz1 = np.dot(w2.T, dz2) * (1 - np.power(a1, 2))\n",
    "    dw1 = 1/m * np.dot(dz1, X.T)\n",
    "    db1 = 1/m * np.sum(dz1, axis=1, keepdims=True)\n",
    "    \n",
    "    grads = {\"dw1\": dw1, \n",
    "            \"db1\": db1,\n",
    "            \"dw2\": dw2,\n",
    "            \"db2\": db2}\n",
    "    return grads \n",
    "    \n",
    "    "
   ]
  },
  {
   "cell_type": "code",
   "execution_count": 99,
   "id": "6bf727cc",
   "metadata": {},
   "outputs": [],
   "source": [
    "def update_parameters(parameters, grads, learning_rate=0.005):\n",
    "    w1 = parameters[\"w1\"]\n",
    "    w2 = parameters[\"w2\"]\n",
    "    b1 = parameters[\"b1\"]\n",
    "    b2 = parameters[\"b2\"]\n",
    "    \n",
    "    dw1 = grads[\"dw1\"]\n",
    "    dw2 = grads[\"dw2\"]\n",
    "    db1 = grads[\"db1\"]\n",
    "    db2 = grads[\"db2\"]\n",
    "    \n",
    "    w1 -= learning_rate * dw1\n",
    "    w2 -= learning_rate * dw2\n",
    "    b1 -= learning_rate * db1\n",
    "    b2 -= learning_rate * db2\n",
    "    \n",
    "    parameters = {\"w1\": w1, \n",
    "                 \"b1\": b1,\n",
    "                 \"w2\": w2, \n",
    "                 \"b2\": b2}\n",
    "    return parameters \n",
    "    "
   ]
  },
  {
   "cell_type": "code",
   "execution_count": 103,
   "id": "ef4d172d",
   "metadata": {},
   "outputs": [],
   "source": [
    "def nn_model(X, y, num_iterations = 10000, print_cost = False):\n",
    "    np.random.seed(3)\n",
    "    n_x = layer_sizes(X, y)[0]\n",
    "    n_y = layer_sizes(X, y)[2]\n",
    "    \n",
    "    n_x, n_h, n_y = layer_sizes(X, y)\n",
    "    parameters = initialize_parameters(n_x, n_h, n_y)\n",
    "    w1 = parameters[\"w1\"]\n",
    "    w2 = parameters[\"w2\"]\n",
    "    b1 = parameters[\"b1\"]\n",
    "    b2 = parameters[\"b2\"]\n",
    "    \n",
    "    \n",
    "    for i in range(num_iterations):\n",
    "        a2, cache = forward_propagate(X, parameters)\n",
    "        \n",
    "        cost = compute_loss(a2, y, parameters)\n",
    "        \n",
    "        grads = backward_propagate(parameters, cache, X, y)\n",
    "        \n",
    "        parameters = update_parameters(parameters, grads)\n",
    "        \n",
    "        if i % 1000 == 0:\n",
    "            print(\"iterations %i: %f\" %(i, cost))\n",
    "    return parameters "
   ]
  },
  {
   "cell_type": "code",
   "execution_count": 104,
   "id": "745ef676",
   "metadata": {},
   "outputs": [],
   "source": [
    "def predict(parameters, X):\n",
    "    a2, cache = forward_propagate(X, parameters)\n",
    "    predictions = np.array([1 if x > 0.5 else 0 for x in a2.reshape(-1, 1)]).reshape(a2.shape)\n",
    "    return predictions "
   ]
  },
  {
   "cell_type": "code",
   "execution_count": 108,
   "id": "fed637e8",
   "metadata": {},
   "outputs": [
    {
     "name": "stdout",
     "output_type": "stream",
     "text": [
      "iterations 0: 0.693171\n",
      "iterations 1000: 0.662658\n",
      "iterations 2000: 0.659981\n",
      "iterations 3000: 0.659709\n",
      "iterations 4000: 0.659625\n",
      "iterations 5000: 0.659451\n",
      "iterations 6000: 0.658961\n",
      "iterations 7000: 0.657648\n",
      "iterations 8000: 0.654595\n",
      "iterations 9000: 0.649232\n",
      "accuracy 62%\n"
     ]
    }
   ],
   "source": [
    "parameters = nn_model(X_train, y_train, num_iterations = 10000)\n",
    "predictions = predict(parameters, X_test)\n",
    "print(\"accuracy %d\" % float((np.dot(y_test, predictions.T) + np.dot(1-y_test, 1-predictions.T))/ float(y_test.size) * 100) + '%')"
   ]
  },
  {
   "cell_type": "code",
   "execution_count": null,
   "id": "6d98be74",
   "metadata": {},
   "outputs": [],
   "source": []
  },
  {
   "cell_type": "code",
   "execution_count": null,
   "id": "2c2c50b9",
   "metadata": {},
   "outputs": [],
   "source": []
  },
  {
   "cell_type": "code",
   "execution_count": null,
   "id": "9fb73635",
   "metadata": {},
   "outputs": [],
   "source": []
  },
  {
   "cell_type": "code",
   "execution_count": null,
   "id": "2c081690",
   "metadata": {},
   "outputs": [],
   "source": []
  }
 ],
 "metadata": {
  "kernelspec": {
   "display_name": "Python 3 (ipykernel)",
   "language": "python",
   "name": "python3"
  },
  "language_info": {
   "codemirror_mode": {
    "name": "ipython",
    "version": 3
   },
   "file_extension": ".py",
   "mimetype": "text/x-python",
   "name": "python",
   "nbconvert_exporter": "python",
   "pygments_lexer": "ipython3",
   "version": "3.8.12"
  }
 },
 "nbformat": 4,
 "nbformat_minor": 5
}
